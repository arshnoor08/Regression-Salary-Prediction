{
  "nbformat": 4,
  "nbformat_minor": 0,
  "metadata": {
    "colab": {
      "provenance": [],
      "include_colab_link": true
    },
    "kernelspec": {
      "name": "python3",
      "display_name": "Python 3"
    },
    "language_info": {
      "name": "python"
    }
  },
  "cells": [
    {
      "cell_type": "markdown",
      "metadata": {
        "id": "view-in-github",
        "colab_type": "text"
      },
      "source": [
        "<a href=\"https://colab.research.google.com/github/arshnoor08/Regression-Salary-Prediction/blob/main/Linear_Regression_Salary.ipynb\" target=\"_parent\"><img src=\"https://colab.research.google.com/assets/colab-badge.svg\" alt=\"Open In Colab\"/></a>"
      ]
    },
    {
      "cell_type": "code",
      "metadata": {
        "id": "oGbMkO9U5g_j"
      },
      "source": [
        "import pandas as pd\n",
        "import numpy as np\n",
        "import matplotlib.pyplot as plt"
      ],
      "execution_count": null,
      "outputs": []
    },
    {
      "cell_type": "code",
      "metadata": {
        "colab": {
          "base_uri": "https://localhost:8080/",
          "height": 198
        },
        "id": "Ws68HUER50l8",
        "outputId": "26c9d0a4-4c2f-4411-e068-899a6176f2d1"
      },
      "source": [
        "data = pd.read_csv(\"/content/Salary_Data.csv\")\n",
        "data.head()"
      ],
      "execution_count": null,
      "outputs": [
        {
          "output_type": "execute_result",
          "data": {
            "text/html": [
              "<div>\n",
              "<style scoped>\n",
              "    .dataframe tbody tr th:only-of-type {\n",
              "        vertical-align: middle;\n",
              "    }\n",
              "\n",
              "    .dataframe tbody tr th {\n",
              "        vertical-align: top;\n",
              "    }\n",
              "\n",
              "    .dataframe thead th {\n",
              "        text-align: right;\n",
              "    }\n",
              "</style>\n",
              "<table border=\"1\" class=\"dataframe\">\n",
              "  <thead>\n",
              "    <tr style=\"text-align: right;\">\n",
              "      <th></th>\n",
              "      <th>YearsExperience</th>\n",
              "      <th>Salary</th>\n",
              "    </tr>\n",
              "  </thead>\n",
              "  <tbody>\n",
              "    <tr>\n",
              "      <th>0</th>\n",
              "      <td>1.1</td>\n",
              "      <td>39343.0</td>\n",
              "    </tr>\n",
              "    <tr>\n",
              "      <th>1</th>\n",
              "      <td>1.3</td>\n",
              "      <td>46205.0</td>\n",
              "    </tr>\n",
              "    <tr>\n",
              "      <th>2</th>\n",
              "      <td>1.5</td>\n",
              "      <td>37731.0</td>\n",
              "    </tr>\n",
              "    <tr>\n",
              "      <th>3</th>\n",
              "      <td>2.0</td>\n",
              "      <td>43525.0</td>\n",
              "    </tr>\n",
              "    <tr>\n",
              "      <th>4</th>\n",
              "      <td>2.2</td>\n",
              "      <td>39891.0</td>\n",
              "    </tr>\n",
              "  </tbody>\n",
              "</table>\n",
              "</div>"
            ],
            "text/plain": [
              "   YearsExperience   Salary\n",
              "0              1.1  39343.0\n",
              "1              1.3  46205.0\n",
              "2              1.5  37731.0\n",
              "3              2.0  43525.0\n",
              "4              2.2  39891.0"
            ]
          },
          "metadata": {
            "tags": []
          },
          "execution_count": 4
        }
      ]
    },
    {
      "cell_type": "code",
      "metadata": {
        "id": "yrnas3u06Be-"
      },
      "source": [
        "data.info()"
      ],
      "execution_count": null,
      "outputs": []
    },
    {
      "cell_type": "code",
      "metadata": {
        "id": "IcP3Os4I6TGW"
      },
      "source": [
        "# Divide the data into features and target\n",
        "x = np.array(data.iloc[:][[\"YearsExperience\"]])\n",
        "#x = np.array(data.iloc[:,0])\n",
        "#x = x.reshape(len(x),1)"
      ],
      "execution_count": null,
      "outputs": []
    },
    {
      "cell_type": "code",
      "metadata": {
        "id": "Ie-8gAV59hp2"
      },
      "source": [
        "y = np.array(data.iloc[:,1])\n",
        "y"
      ],
      "execution_count": null,
      "outputs": []
    },
    {
      "cell_type": "code",
      "metadata": {
        "id": "8jVF04Tm8bLt"
      },
      "source": [
        "# Split the data into training and testing"
      ],
      "execution_count": null,
      "outputs": []
    },
    {
      "cell_type": "code",
      "metadata": {
        "id": "QVu54dla-52P"
      },
      "source": [
        "x_new = x[0:10]\n",
        "y_new = y[0:10]\n",
        "from sklearn.model_selection import train_test_split\n",
        "a,b,c,d = train_test_split(x_new,y_new,train_size=0.70,random_state=1)"
      ],
      "execution_count": null,
      "outputs": []
    },
    {
      "cell_type": "code",
      "metadata": {
        "id": "2rvg1INw_aD7"
      },
      "source": [
        "from sklearn.model_selection import train_test_split\n",
        "xtrain,xtest,ytrain,ytest = train_test_split(x,y,train_size=0.80,random_state=4697)"
      ],
      "execution_count": null,
      "outputs": []
    },
    {
      "cell_type": "code",
      "metadata": {
        "colab": {
          "base_uri": "https://localhost:8080/"
        },
        "id": "dUzGDd1A_t6M",
        "outputId": "576162aa-7d2f-4bf3-d3c8-301ab2d6cf6d"
      },
      "source": [
        "ytest"
      ],
      "execution_count": null,
      "outputs": [
        {
          "output_type": "execute_result",
          "data": {
            "text/plain": [
              "array([ 43525., 109431., 101302.,  81363., 122391.,  91738.])"
            ]
          },
          "metadata": {
            "tags": []
          },
          "execution_count": 57
        }
      ]
    },
    {
      "cell_type": "code",
      "metadata": {
        "id": "Ov5G14pkA7ab"
      },
      "source": [
        "from sklearn.linear_model import LinearRegression\n",
        "model = LinearRegression()"
      ],
      "execution_count": null,
      "outputs": []
    },
    {
      "cell_type": "code",
      "metadata": {
        "colab": {
          "base_uri": "https://localhost:8080/"
        },
        "id": "9NwZFmNXFilx",
        "outputId": "f92459e7-17ce-47b5-92b8-b9e86110aafb"
      },
      "source": [
        "model.fit(xtrain,ytrain)"
      ],
      "execution_count": null,
      "outputs": [
        {
          "output_type": "execute_result",
          "data": {
            "text/plain": [
              "LinearRegression(copy_X=True, fit_intercept=True, n_jobs=None, normalize=False)"
            ]
          },
          "metadata": {
            "tags": []
          },
          "execution_count": 59
        }
      ]
    },
    {
      "cell_type": "code",
      "metadata": {
        "colab": {
          "base_uri": "https://localhost:8080/"
        },
        "id": "Lb_N2e_7Ftks",
        "outputId": "36d2b7b2-b9c0-492e-91ff-48cb6021ab0a"
      },
      "source": [
        "### Test the model (Prediction)\n",
        "ypred = model.predict(xtest)\n",
        "ypred"
      ],
      "execution_count": null,
      "outputs": [
        {
          "output_type": "execute_result",
          "data": {
            "text/plain": [
              "array([ 44788.50460346, 107700.91806713, 100188.98810131,  81409.16318679,\n",
              "       122724.77799875,  89860.08439832])"
            ]
          },
          "metadata": {
            "tags": []
          },
          "execution_count": 60
        }
      ]
    },
    {
      "cell_type": "code",
      "metadata": {
        "colab": {
          "base_uri": "https://localhost:8080/"
        },
        "id": "IEATRf5TGPEi",
        "outputId": "991bd551-54c5-491a-df77-80f22593422b"
      },
      "source": [
        "xtest"
      ],
      "execution_count": null,
      "outputs": [
        {
          "output_type": "execute_result",
          "data": {
            "text/plain": [
              "array([[ 2. ],\n",
              "       [ 8.7],\n",
              "       [ 7.9],\n",
              "       [ 5.9],\n",
              "       [10.3],\n",
              "       [ 6.8]])"
            ]
          },
          "metadata": {
            "tags": []
          },
          "execution_count": 61
        }
      ]
    },
    {
      "cell_type": "code",
      "metadata": {
        "colab": {
          "base_uri": "https://localhost:8080/"
        },
        "id": "huHZmeW7GP6g",
        "outputId": "955dd101-3b0f-4084-e7db-b19d0c11720c"
      },
      "source": [
        "ytest"
      ],
      "execution_count": null,
      "outputs": [
        {
          "output_type": "execute_result",
          "data": {
            "text/plain": [
              "array([ 43525., 109431., 101302.,  81363., 122391.,  91738.])"
            ]
          },
          "metadata": {
            "tags": []
          },
          "execution_count": 62
        }
      ]
    },
    {
      "cell_type": "code",
      "metadata": {
        "colab": {
          "base_uri": "https://localhost:8080/"
        },
        "id": "YxE7YNubGWIR",
        "outputId": "d137b5fc-e42c-453f-9f29-b743ba1a9cc5"
      },
      "source": [
        "from sklearn.metrics import r2_score\n",
        "r2 = r2_score(ytest,ypred)\n",
        "r2"
      ],
      "execution_count": null,
      "outputs": [
        {
          "output_type": "execute_result",
          "data": {
            "text/plain": [
              "0.9974925617006956"
            ]
          },
          "metadata": {
            "tags": []
          },
          "execution_count": 63
        }
      ]
    },
    {
      "cell_type": "code",
      "metadata": {
        "id": "tTVUMnrXGrw3"
      },
      "source": [
        "### Plot the line of regression (Training)\n",
        "plt.figure(figsize=(8,5))\n",
        "plt.scatter(xtrain,ytrain,color='blue',s=100,label=\"Actual Point\")\n",
        "plt.scatter(xtrain,model.predict(xtrain),color='red',s=100,label=\"Predicted Point\")\n",
        "plt.plot(xtrain,model.predict(xtrain),linestyle='dotted',color='orange',label=\"Line of Regression\")\n",
        "plt.show()"
      ],
      "execution_count": null,
      "outputs": []
    },
    {
      "cell_type": "code",
      "metadata": {
        "id": "X-xgQ0CZHtAO"
      },
      "source": [
        "### Plot the line of regression (Testing)\n",
        "plt.figure(figsize=(8,5))\n",
        "plt.scatter(xtest,ytest,color='blue',s=100,label=\"Actual Point\")\n",
        "plt.scatter(xtest,model.predict(xtest),color='red',s=100,label=\"Predicted Point\")\n",
        "plt.plot(xtest,model.predict(xtest),linestyle='dotted',color='orange',label=\"Line of Regression\")\n",
        "plt.show()"
      ],
      "execution_count": null,
      "outputs": []
    },
    {
      "cell_type": "code",
      "metadata": {
        "id": "DqHqwL9BJNkF"
      },
      "source": [
        "scores = []\n",
        "for i in range(5000):\n",
        "  xtrain1,xtest1,ytrain1,ytest1 = train_test_split(x,y,train_size=0.80,random_state=i)\n",
        "  model1 = LinearRegression()\n",
        "  model1.fit(xtrain1,ytrain1)\n",
        "  ypred1 = model1.predict(xtest1)\n",
        "  scores.append(r2_score(ytest1,ypred1))"
      ],
      "execution_count": null,
      "outputs": []
    },
    {
      "cell_type": "code",
      "metadata": {
        "colab": {
          "base_uri": "https://localhost:8080/"
        },
        "id": "JrF4OaieLV7m",
        "outputId": "bc37aa67-cb38-4095-eed9-341256fe5163"
      },
      "source": [
        "np.max(scores)"
      ],
      "execution_count": null,
      "outputs": [
        {
          "output_type": "execute_result",
          "data": {
            "text/plain": [
              "0.9974925617006956"
            ]
          },
          "metadata": {
            "tags": []
          },
          "execution_count": 54
        }
      ]
    },
    {
      "cell_type": "code",
      "metadata": {
        "colab": {
          "base_uri": "https://localhost:8080/"
        },
        "id": "iP-4fpVFLar9",
        "outputId": "6bc91f0d-285a-4545-e7cb-20e2aee48513"
      },
      "source": [
        "np.argmax(scores)"
      ],
      "execution_count": null,
      "outputs": [
        {
          "output_type": "execute_result",
          "data": {
            "text/plain": [
              "4697"
            ]
          },
          "metadata": {
            "tags": []
          },
          "execution_count": 55
        }
      ]
    },
    {
      "cell_type": "code",
      "metadata": {
        "colab": {
          "base_uri": "https://localhost:8080/"
        },
        "id": "4J0JfwgNLqPX",
        "outputId": "fa444e6b-0088-4cd9-93fa-b8a49861fb4a"
      },
      "source": [
        "model.predict([[11]])"
      ],
      "execution_count": null,
      "outputs": [
        {
          "output_type": "execute_result",
          "data": {
            "text/plain": [
              "array([129297.71671883])"
            ]
          },
          "metadata": {
            "tags": []
          },
          "execution_count": 66
        }
      ]
    },
    {
      "cell_type": "code",
      "metadata": {
        "colab": {
          "base_uri": "https://localhost:8080/"
        },
        "id": "AWUD1zDvM7Eb",
        "outputId": "e743d853-c285-451c-c4fc-5be92b61eba1"
      },
      "source": [
        "years = float(input(\"Enter experience in years \"))\n",
        "salary = model.predict([[years]])\n",
        "print(\"The salary is Rs \"+str(salary[0]))"
      ],
      "execution_count": null,
      "outputs": [
        {
          "output_type": "stream",
          "text": [
            "Enter experience in years 5\n",
            "The salary is Rs 72958.24197524918\n"
          ],
          "name": "stdout"
        }
      ]
    },
    {
      "cell_type": "code",
      "metadata": {
        "colab": {
          "base_uri": "https://localhost:8080/"
        },
        "id": "T9ix6p9FNU0W",
        "outputId": "35b8d4db-e6eb-45c9-a30e-f56c71b7aba6"
      },
      "source": [
        "print(\"The salary is Rs\",str(salary[0]))"
      ],
      "execution_count": null,
      "outputs": [
        {
          "output_type": "stream",
          "text": [
            "The salary is Rs 72958.24197524918\n"
          ],
          "name": "stdout"
        }
      ]
    },
    {
      "cell_type": "code",
      "metadata": {
        "colab": {
          "base_uri": "https://localhost:8080/"
        },
        "id": "vtaTW9JJNwKB",
        "outputId": "dce12f2a-1a2a-4abc-a8b4-7ad572cba452"
      },
      "source": [
        "print(\"The salary is Rs\",end=\" \")\n",
        "print(str(salary[0]))"
      ],
      "execution_count": null,
      "outputs": [
        {
          "output_type": "stream",
          "text": [
            "The salary is Rs 72958.24197524918\n"
          ],
          "name": "stdout"
        }
      ]
    },
    {
      "cell_type": "code",
      "metadata": {
        "id": "S3IC8BcnN0gz"
      },
      "source": [
        "file = open('output.txt','w')\n",
        "file.write(\"The salary is Rs\"+str(salary[0]))\n",
        "file.close()"
      ],
      "execution_count": null,
      "outputs": []
    },
    {
      "cell_type": "code",
      "metadata": {
        "id": "-j7SIT8vOvdy"
      },
      "source": [
        "m = model.coef_\n",
        "c = model.intercept_"
      ],
      "execution_count": null,
      "outputs": []
    },
    {
      "cell_type": "code",
      "metadata": {
        "colab": {
          "base_uri": "https://localhost:8080/"
        },
        "id": "ONnh5NWTSGuo",
        "outputId": "79ede40c-39dc-4749-f0b5-72d7807a5809"
      },
      "source": [
        "print(m)"
      ],
      "execution_count": null,
      "outputs": [
        {
          "output_type": "stream",
          "text": [
            "[9389.91245726]\n"
          ],
          "name": "stdout"
        }
      ]
    },
    {
      "cell_type": "code",
      "metadata": {
        "colab": {
          "base_uri": "https://localhost:8080/"
        },
        "id": "wEbQRMLGSHrr",
        "outputId": "c4209e23-dc29-404d-95a7-9755b5bf020e"
      },
      "source": [
        "print(c)"
      ],
      "execution_count": null,
      "outputs": [
        {
          "output_type": "stream",
          "text": [
            "26008.679688929536\n"
          ],
          "name": "stdout"
        }
      ]
    },
    {
      "cell_type": "code",
      "metadata": {
        "colab": {
          "base_uri": "https://localhost:8080/"
        },
        "id": "RE5ulUrnSIVD",
        "outputId": "ed19cf32-78ec-4ad9-d8f5-cf3d6e0d84b7"
      },
      "source": [
        "model.predict([[11]])"
      ],
      "execution_count": null,
      "outputs": [
        {
          "output_type": "execute_result",
          "data": {
            "text/plain": [
              "array([129297.71671883])"
            ]
          },
          "metadata": {
            "tags": []
          },
          "execution_count": 82
        }
      ]
    },
    {
      "cell_type": "code",
      "metadata": {
        "id": "9ThGIINlSROD"
      },
      "source": [],
      "execution_count": null,
      "outputs": []
    }
  ]
}